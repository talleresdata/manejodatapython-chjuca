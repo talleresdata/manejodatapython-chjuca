{
 "cells": [
  {
   "cell_type": "code",
   "execution_count": 2,
   "metadata": {},
   "outputs": [],
   "source": [
    "import pandas as pd"
   ]
  },
  {
   "cell_type": "code",
   "execution_count": 3,
   "metadata": {},
   "outputs": [],
   "source": [
    "data = pd.read_json('data/log-course2.json')"
   ]
  },
  {
   "cell_type": "code",
   "execution_count": 5,
   "metadata": {},
   "outputs": [
    {
     "data": {
      "text/html": [
       "<div>\n",
       "<style scoped>\n",
       "    .dataframe tbody tr th:only-of-type {\n",
       "        vertical-align: middle;\n",
       "    }\n",
       "\n",
       "    .dataframe tbody tr th {\n",
       "        vertical-align: top;\n",
       "    }\n",
       "\n",
       "    .dataframe thead th {\n",
       "        text-align: right;\n",
       "    }\n",
       "</style>\n",
       "<table border=\"1\" class=\"dataframe\">\n",
       "  <thead>\n",
       "    <tr style=\"text-align: right;\">\n",
       "      <th></th>\n",
       "      <th>accept_language</th>\n",
       "      <th>agent</th>\n",
       "      <th>context</th>\n",
       "      <th>event</th>\n",
       "      <th>event_source</th>\n",
       "      <th>event_type</th>\n",
       "      <th>host</th>\n",
       "      <th>ip</th>\n",
       "      <th>name</th>\n",
       "      <th>page</th>\n",
       "      <th>referer</th>\n",
       "      <th>session</th>\n",
       "      <th>time</th>\n",
       "      <th>username</th>\n",
       "    </tr>\n",
       "  </thead>\n",
       "  <tbody>\n",
       "    <tr>\n",
       "      <th>0</th>\n",
       "      <td>es-ES,es;q=0.9</td>\n",
       "      <td>Mozilla/5.0 (Windows NT 6.1; WOW64) AppleWebKi...</td>\n",
       "      <td>{'course_user_tags': {}, 'user_id': '', 'org_i...</td>\n",
       "      <td>{\"POST\": {}, \"GET\": {}}</td>\n",
       "      <td>server</td>\n",
       "      <td>/courses/course-v1:UTPL+SARH5+2019_1/about</td>\n",
       "      <td>opencampus.utpl.edu.ec</td>\n",
       "      <td>77.111.247.82</td>\n",
       "      <td>NaN</td>\n",
       "      <td>None</td>\n",
       "      <td></td>\n",
       "      <td>NaN</td>\n",
       "      <td>2019-04-01T04:28:26.189835+00:00</td>\n",
       "      <td></td>\n",
       "    </tr>\n",
       "    <tr>\n",
       "      <th>1</th>\n",
       "      <td>es-ES,es;q=0.9</td>\n",
       "      <td>Mozilla/5.0 (Windows NT 6.1; WOW64) AppleWebKi...</td>\n",
       "      <td>{'course_user_tags': {}, 'user_id': '', 'org_i...</td>\n",
       "      <td>{\"POST\": {}, \"GET\": {}}</td>\n",
       "      <td>server</td>\n",
       "      <td>/courses/course-v1:UTPL+SARH5+2019_1/</td>\n",
       "      <td>opencampus.utpl.edu.ec</td>\n",
       "      <td>77.111.247.82</td>\n",
       "      <td>NaN</td>\n",
       "      <td>None</td>\n",
       "      <td></td>\n",
       "      <td>NaN</td>\n",
       "      <td>2019-04-01T04:28:27.321273+00:00</td>\n",
       "      <td></td>\n",
       "    </tr>\n",
       "    <tr>\n",
       "      <th>2</th>\n",
       "      <td>es-ES,es;q=0.8,en-US;q=0.5,en;q=0.3</td>\n",
       "      <td>Mozilla/5.0 (Windows NT 10.0; Win64; x64; rv:6...</td>\n",
       "      <td>{'course_user_tags': {}, 'user_id': '', 'org_i...</td>\n",
       "      <td>{\"POST\": {}, \"GET\": {}}</td>\n",
       "      <td>server</td>\n",
       "      <td>/courses/course-v1:UTPL+SARH5+2019_1/about</td>\n",
       "      <td>opencampus.utpl.edu.ec</td>\n",
       "      <td>157.100.56.84</td>\n",
       "      <td>NaN</td>\n",
       "      <td>None</td>\n",
       "      <td></td>\n",
       "      <td>NaN</td>\n",
       "      <td>2019-04-01T04:36:10.029097+00:00</td>\n",
       "      <td></td>\n",
       "    </tr>\n",
       "    <tr>\n",
       "      <th>3</th>\n",
       "      <td>es-ES,es;q=0.8,en-US;q=0.5,en;q=0.3</td>\n",
       "      <td>Mozilla/5.0 (Windows NT 10.0; Win64; x64; rv:6...</td>\n",
       "      <td>{'user_id': '', 'org_id': '', 'course_id': '',...</td>\n",
       "      <td>{\"POST\": {}, \"GET\": {}}</td>\n",
       "      <td>server</td>\n",
       "      <td>/i18n.js</td>\n",
       "      <td>opencampus.utpl.edu.ec</td>\n",
       "      <td>157.100.56.84</td>\n",
       "      <td>NaN</td>\n",
       "      <td>None</td>\n",
       "      <td>http://opencampus.utpl.edu.ec/courses/course-v...</td>\n",
       "      <td>NaN</td>\n",
       "      <td>2019-04-01T04:36:10.637890+00:00</td>\n",
       "      <td></td>\n",
       "    </tr>\n",
       "    <tr>\n",
       "      <th>4</th>\n",
       "      <td>es-ES,es;q=0.8,en-US;q=0.5,en;q=0.3</td>\n",
       "      <td>Mozilla/5.0 (Windows NT 10.0; Win64; x64; rv:6...</td>\n",
       "      <td>{'user_id': '', 'org_id': '', 'course_id': '',...</td>\n",
       "      <td>{\"POST\": {\"course_id\": [\"course-v1:UTPL+SARH5+...</td>\n",
       "      <td>server</td>\n",
       "      <td>/change_enrollment</td>\n",
       "      <td>opencampus.utpl.edu.ec</td>\n",
       "      <td>157.100.56.84</td>\n",
       "      <td>NaN</td>\n",
       "      <td>None</td>\n",
       "      <td>http://opencampus.utpl.edu.ec/courses/course-v...</td>\n",
       "      <td>NaN</td>\n",
       "      <td>2019-04-01T04:38:47.135982+00:00</td>\n",
       "      <td></td>\n",
       "    </tr>\n",
       "  </tbody>\n",
       "</table>\n",
       "</div>"
      ],
      "text/plain": [
       "                       accept_language  \\\n",
       "0                       es-ES,es;q=0.9   \n",
       "1                       es-ES,es;q=0.9   \n",
       "2  es-ES,es;q=0.8,en-US;q=0.5,en;q=0.3   \n",
       "3  es-ES,es;q=0.8,en-US;q=0.5,en;q=0.3   \n",
       "4  es-ES,es;q=0.8,en-US;q=0.5,en;q=0.3   \n",
       "\n",
       "                                               agent  \\\n",
       "0  Mozilla/5.0 (Windows NT 6.1; WOW64) AppleWebKi...   \n",
       "1  Mozilla/5.0 (Windows NT 6.1; WOW64) AppleWebKi...   \n",
       "2  Mozilla/5.0 (Windows NT 10.0; Win64; x64; rv:6...   \n",
       "3  Mozilla/5.0 (Windows NT 10.0; Win64; x64; rv:6...   \n",
       "4  Mozilla/5.0 (Windows NT 10.0; Win64; x64; rv:6...   \n",
       "\n",
       "                                             context  \\\n",
       "0  {'course_user_tags': {}, 'user_id': '', 'org_i...   \n",
       "1  {'course_user_tags': {}, 'user_id': '', 'org_i...   \n",
       "2  {'course_user_tags': {}, 'user_id': '', 'org_i...   \n",
       "3  {'user_id': '', 'org_id': '', 'course_id': '',...   \n",
       "4  {'user_id': '', 'org_id': '', 'course_id': '',...   \n",
       "\n",
       "                                               event event_source  \\\n",
       "0                            {\"POST\": {}, \"GET\": {}}       server   \n",
       "1                            {\"POST\": {}, \"GET\": {}}       server   \n",
       "2                            {\"POST\": {}, \"GET\": {}}       server   \n",
       "3                            {\"POST\": {}, \"GET\": {}}       server   \n",
       "4  {\"POST\": {\"course_id\": [\"course-v1:UTPL+SARH5+...       server   \n",
       "\n",
       "                                   event_type                    host  \\\n",
       "0  /courses/course-v1:UTPL+SARH5+2019_1/about  opencampus.utpl.edu.ec   \n",
       "1       /courses/course-v1:UTPL+SARH5+2019_1/  opencampus.utpl.edu.ec   \n",
       "2  /courses/course-v1:UTPL+SARH5+2019_1/about  opencampus.utpl.edu.ec   \n",
       "3                                    /i18n.js  opencampus.utpl.edu.ec   \n",
       "4                          /change_enrollment  opencampus.utpl.edu.ec   \n",
       "\n",
       "              ip name  page  \\\n",
       "0  77.111.247.82  NaN  None   \n",
       "1  77.111.247.82  NaN  None   \n",
       "2  157.100.56.84  NaN  None   \n",
       "3  157.100.56.84  NaN  None   \n",
       "4  157.100.56.84  NaN  None   \n",
       "\n",
       "                                             referer session  \\\n",
       "0                                                        NaN   \n",
       "1                                                        NaN   \n",
       "2                                                        NaN   \n",
       "3  http://opencampus.utpl.edu.ec/courses/course-v...     NaN   \n",
       "4  http://opencampus.utpl.edu.ec/courses/course-v...     NaN   \n",
       "\n",
       "                               time username  \n",
       "0  2019-04-01T04:28:26.189835+00:00           \n",
       "1  2019-04-01T04:28:27.321273+00:00           \n",
       "2  2019-04-01T04:36:10.029097+00:00           \n",
       "3  2019-04-01T04:36:10.637890+00:00           \n",
       "4  2019-04-01T04:38:47.135982+00:00           "
      ]
     },
     "execution_count": 5,
     "metadata": {},
     "output_type": "execute_result"
    }
   ],
   "source": [
    "data.head()"
   ]
  },
  {
   "cell_type": "code",
   "execution_count": 6,
   "metadata": {
    "scrolled": false
   },
   "outputs": [
    {
     "data": {
      "text/plain": [
       "(51261, 14)"
      ]
     },
     "execution_count": 6,
     "metadata": {},
     "output_type": "execute_result"
    }
   ],
   "source": [
    "data.shape"
   ]
  },
  {
   "cell_type": "code",
   "execution_count": 7,
   "metadata": {},
   "outputs": [
    {
     "data": {
      "text/plain": [
       "Index(['accept_language', 'agent', 'context', 'event', 'event_source',\n",
       "       'event_type', 'host', 'ip', 'name', 'page', 'referer', 'session',\n",
       "       'time', 'username'],\n",
       "      dtype='object')"
      ]
     },
     "execution_count": 7,
     "metadata": {},
     "output_type": "execute_result"
    }
   ],
   "source": [
    "data.keys()"
   ]
  },
  {
   "cell_type": "code",
   "execution_count": 8,
   "metadata": {},
   "outputs": [
    {
     "data": {
      "text/plain": [
       "0                        \n",
       "1                        \n",
       "2                        \n",
       "3                        \n",
       "4                        \n",
       "5                        \n",
       "6                        \n",
       "7           danieltapia00\n",
       "8           danieltapia00\n",
       "9                        \n",
       "10                       \n",
       "11                       \n",
       "12                       \n",
       "13                       \n",
       "14                       \n",
       "15                       \n",
       "16                       \n",
       "17                       \n",
       "18       JocelyneCastillo\n",
       "19       JocelyneCastillo\n",
       "20       JocelyneCastillo\n",
       "21                       \n",
       "22                       \n",
       "23                       \n",
       "24                       \n",
       "25                       \n",
       "26                       \n",
       "27                       \n",
       "28       JocelyneCastillo\n",
       "29       JocelyneCastillo\n",
       "               ...       \n",
       "51231          KAELIZALDE\n",
       "51232          KAELIZALDE\n",
       "51233          KAELIZALDE\n",
       "51234          KAELIZALDE\n",
       "51235          KAELIZALDE\n",
       "51236          KAELIZALDE\n",
       "51237         AndreaTobar\n",
       "51238         AndreaTobar\n",
       "51239         AndreaTobar\n",
       "51240         AndreaTobar\n",
       "51241         AndreaTobar\n",
       "51242         AndreaTobar\n",
       "51243         AndreaTobar\n",
       "51244         AndreaTobar\n",
       "51245         AndreaTobar\n",
       "51246         AndreaTobar\n",
       "51247            jpperez5\n",
       "51248            jpperez5\n",
       "51249            jpperez5\n",
       "51250            jpperez5\n",
       "51251            jpperez5\n",
       "51252            jpperez5\n",
       "51253         AndreaTobar\n",
       "51254         AndreaTobar\n",
       "51255         AndreaTobar\n",
       "51256         AndreaTobar\n",
       "51257         AndreaTobar\n",
       "51258         AndreaTobar\n",
       "51259        PabloAchanci\n",
       "51260        PabloAchanci\n",
       "Name: username, Length: 51261, dtype: object"
      ]
     },
     "execution_count": 8,
     "metadata": {},
     "output_type": "execute_result"
    }
   ],
   "source": [
    "data['username']"
   ]
  },
  {
   "cell_type": "code",
   "execution_count": 9,
   "metadata": {},
   "outputs": [
    {
     "data": {
      "text/plain": [
       "array(['', 'danieltapia00', 'JocelyneCastillo', ..., 'esbravo3',\n",
       "       'dmandrade1', 'KAELIZALDE'], dtype=object)"
      ]
     },
     "execution_count": 9,
     "metadata": {},
     "output_type": "execute_result"
    }
   ],
   "source": [
    "data['username'].unique()"
   ]
  }
 ],
 "metadata": {
  "kernelspec": {
   "display_name": "Python 3",
   "language": "python",
   "name": "python3"
  },
  "language_info": {
   "codemirror_mode": {
    "name": "ipython",
    "version": 3
   },
   "file_extension": ".py",
   "mimetype": "text/x-python",
   "name": "python",
   "nbconvert_exporter": "python",
   "pygments_lexer": "ipython3",
   "version": "3.6.5"
  }
 },
 "nbformat": 4,
 "nbformat_minor": 2
}
