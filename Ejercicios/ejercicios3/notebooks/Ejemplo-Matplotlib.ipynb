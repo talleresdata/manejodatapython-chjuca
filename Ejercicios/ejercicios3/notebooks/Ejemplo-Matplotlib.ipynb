{
 "cells": [
  {
   "cell_type": "markdown",
   "metadata": {},
   "source": [
    "# Uso de Matplotlib\n",
    "#### https://matplotlib.org/index.html"
   ]
  },
  {
   "cell_type": "code",
   "execution_count": 1,
   "metadata": {},
   "outputs": [],
   "source": [
    "import pandas as pd\n",
    "import sys\n",
    "import datetime as dt\n",
    "import numpy as np\n",
    "import matplotlib.pyplot as plt\n",
    "import matplotlib\n",
    "from pandas.tools.plotting import radviz\n",
    "\n",
    "%matplotlib inline\n",
    "\n"
   ]
  },
  {
   "cell_type": "code",
   "execution_count": 2,
   "metadata": {},
   "outputs": [],
   "source": [
    "# Definimos nuestra función.\n",
    "def f(x):\n",
    "    return np.exp(-x ** 2)\n",
    "# print help(np.exp)"
   ]
  },
  {
   "cell_type": "code",
   "execution_count": 3,
   "metadata": {},
   "outputs": [
    {
     "name": "stdout",
     "output_type": "stream",
     "text": [
      "[-1.         -0.79310345 -0.5862069  -0.37931034 -0.17241379  0.03448276\n",
      "  0.24137931  0.44827586  0.65517241  0.86206897  1.06896552  1.27586207\n",
      "  1.48275862  1.68965517  1.89655172  2.10344828  2.31034483  2.51724138\n",
      "  2.72413793  2.93103448  3.13793103  3.34482759  3.55172414  3.75862069\n",
      "  3.96551724  4.17241379  4.37931034  4.5862069   4.79310345  5.        ]\n"
     ]
    }
   ],
   "source": [
    "#Creamos un vector con los puntos que le pasaremos a la funcion previamente creada.\n",
    "x = np.linspace(-1, 5, num=30)\n",
    "print x"
   ]
  },
  {
   "cell_type": "code",
   "execution_count": 4,
   "metadata": {},
   "outputs": [
    {
     "data": {
      "image/png": "[encoded data removed]",
      "text/plain": [
       "<matplotlib.figure.Figure at 0x7ff3cbb65dd0>"
      ]
     },
     "metadata": {},
     "output_type": "display_data"
    }
   ],
   "source": [
    "#Representeamos la función utilizando el objeto plt de matplotlib\n",
    "plt.xlabel(\"Eje $x$\")\n",
    "plt.ylabel(\"$f(x)$\")\n",
    "\n",
    "plt.title(u\"Funcion $f(x)$ - $Título$\")\n",
    "plt.grid(True)\n",
    "fig = plt.plot(x, f(x), label=u\"Función f(x)\")"
   ]
  },
  {
   "cell_type": "code",
   "execution_count": null,
   "metadata": {
    "collapsed": true
   },
   "outputs": [],
   "source": []
  }
 ],
 "metadata": {
  "kernelspec": {
   "display_name": "Python 3",
   "language": "python",
   "name": "python3"
  },
  "language_info": {
   "codemirror_mode": {
    "name": "ipython",
    "version": 3
   },
   "file_extension": ".py",
   "mimetype": "text/x-python",
   "name": "python",
   "nbconvert_exporter": "python",
   "pygments_lexer": "ipython3",
   "version": "3.6.5"
  }
 },
 "nbformat": 4,
 "nbformat_minor": 1
}
